{
 "cells": [
  {
   "cell_type": "code",
   "execution_count": 15,
   "id": "262d28f8",
   "metadata": {},
   "outputs": [],
   "source": [
    "import requests\n",
    "import bs4\n",
    "from bs4 import BeautifulSoup\n",
    "import pandas as pd\n",
    "from datetime import datetime\n",
    "import csv\n",
    "\n",
    "def get_url(position, location):\n",
    "    base_url ='https://pk.indeed.com/jobs?q={}&l={}'\n",
    "    url=base_url.format(position, location)\n",
    "    return url\n",
    "\n",
    "def get_record(card):\n",
    "    \"\"\"Extract job data from a single record\"\"\"\n",
    "    atag = card.h2.a.span\n",
    "    job_title=atag.get('title')\n",
    "    company_title = card.find(\"span\",{\"class\":\"companyName\"}).text.strip()\n",
    "    post_date = card.find('span', 'date').text\n",
    "    today = datetime.today().strftime('%Y-%m-%d')\n",
    "    summary = card.find('div', 'job-snippet').text.strip().replace('\\n', ' ')\n",
    " # this does not exists for all jobs, so handle the exceptions\n",
    "    salary_tag = card.find('div', 'attribute_snippet')\n",
    "    if salary_tag:\n",
    "        salary = salary_tag.text.strip()\n",
    "    else:\n",
    "        salary = ''  \n",
    "    job_url = 'https://www.indeed.com' + card.h2.a.get('href')\n",
    "    record = (job_title, company_title, post_date, today, summary, salary, job_url)\n",
    "    return record\n",
    "\n",
    "def main(position, location):\n",
    "    \"\"\"Run the main program routine\"\"\"\n",
    "    records = []\n",
    "    urll = get_url(position, location)\n",
    "\n",
    "    while True:\n",
    "        response = requests.get(urll)\n",
    "        soup = BeautifulSoup(response.text, 'html.parser')\n",
    "        cards = soup.find_all('div', 'job_seen_beacon')\n",
    "        for card in cards:\n",
    "            record = get_record(card)\n",
    "            records.append(record) \n",
    "        try:\n",
    "            url = 'https://www.indeed.com' + soup.find('a', {'aria-label': 'Next'}).get('href')\n",
    "        except AttributeError:\n",
    "            break\n",
    "#     info_all_df3=pd.DataFrame.from_dict(record,orient='index',columns=['JobTitle', 'Company', 'PostDate', 'ExtractDate', 'Summary', 'Salary', 'JobUrl'])\n",
    "#     info_all_df3.to_csv('indeedjobspython.csv')                                   \n",
    "    with open('resultsjobs.csv', 'w', newline='', encoding='utf-8') as f:\n",
    "        writer = csv.writer(f)\n",
    "        writer.writerow(['JobTitle', 'Company', 'PostDate', 'ExtractDate', 'Summary', 'Salary', 'JobUrl'])\n",
    "        writer.writerows(records)"
   ]
  },
  {
   "cell_type": "code",
   "execution_count": null,
   "id": "513e1076",
   "metadata": {},
   "outputs": [],
   "source": []
  },
  {
   "cell_type": "code",
   "execution_count": 16,
   "id": "4b614616",
   "metadata": {},
   "outputs": [],
   "source": [
    "main('python', 'Lahore')"
   ]
  },
  {
   "cell_type": "code",
   "execution_count": null,
   "id": "47bd148a",
   "metadata": {},
   "outputs": [],
   "source": []
  }
 ],
 "metadata": {
  "kernelspec": {
   "display_name": "Python 3 (ipykernel)",
   "language": "python",
   "name": "python3"
  },
  "language_info": {
   "codemirror_mode": {
    "name": "ipython",
    "version": 3
   },
   "file_extension": ".py",
   "mimetype": "text/x-python",
   "name": "python",
   "nbconvert_exporter": "python",
   "pygments_lexer": "ipython3",
   "version": "3.9.7"
  }
 },
 "nbformat": 4,
 "nbformat_minor": 5
}
